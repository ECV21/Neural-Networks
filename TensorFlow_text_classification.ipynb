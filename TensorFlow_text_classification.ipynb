{
  "nbformat": 4,
  "nbformat_minor": 0,
  "metadata": {
    "colab": {
      "provenance": [],
      "authorship_tag": "ABX9TyN0PdED4hmIqWiTuTq5dzFE",
      "include_colab_link": true
    },
    "kernelspec": {
      "name": "python3",
      "display_name": "Python 3"
    },
    "language_info": {
      "name": "python"
    }
  },
  "cells": [
    {
      "cell_type": "markdown",
      "metadata": {
        "id": "view-in-github",
        "colab_type": "text"
      },
      "source": [
        "<a href=\"https://colab.research.google.com/github/ECV21/Neural-Networks/blob/main/TensorFlow_text_classification.ipynb\" target=\"_parent\"><img src=\"https://colab.research.google.com/assets/colab-badge.svg\" alt=\"Open In Colab\"/></a>"
      ]
    },
    {
      "cell_type": "markdown",
      "source": [
        "# Basic text classification"
      ],
      "metadata": {
        "id": "zdgkfiQMRTyL"
      }
    },
    {
      "cell_type": "markdown",
      "source": [
        "El dataset para clasificación binaria de 25,000 películas de entrenamiento y 25,000 para testing.\n",
        "\n",
        "Feunte: https://ai.stanford.edu/~amaas/data/sentiment/"
      ],
      "metadata": {
        "id": "c-vj_DVlSARZ"
      }
    },
    {
      "cell_type": "markdown",
      "source": [
        "# Importar librerías"
      ],
      "metadata": {
        "id": "IfQlPLLuReU6"
      }
    },
    {
      "cell_type": "code",
      "execution_count": 1,
      "metadata": {
        "id": "a-aUxcZLPWLS"
      },
      "outputs": [],
      "source": [
        "import matplotlib.pyplot as plt #crear gráficos y visualizaciones\n",
        "import os #para interactuar con sistema operativo; manipular archivos y directorios\n",
        "import re #para expresiones regulares, analizar y manipulas cadenas de texto\n",
        "import shutil #gestionar achivos y directorios; copiar, mover y eliminar achivos\n",
        "import string #manipular cadenas\n",
        "import tensorflow as tf #para desarrollo de modelos de aprendizaje automáticos y Redes neuronales\n",
        "\n",
        "from tensorflow.keras import layers #submódulo que proporciona layers(capas) que forman redes neuronales en TensorFlow\n",
        "from tensorflow.keras import losses #submódulo que tiene funciones de pérdida para entrenar ML\n"
      ]
    },
    {
      "cell_type": "code",
      "source": [
        "#ver version:\n",
        "\n",
        "print(tf.__version__)"
      ],
      "metadata": {
        "colab": {
          "base_uri": "https://localhost:8080/"
        },
        "id": "IPSdY15aSceT",
        "outputId": "4f42a183-3124-4bf6-e9b1-d7fc2b01510f"
      },
      "execution_count": 2,
      "outputs": [
        {
          "output_type": "stream",
          "name": "stdout",
          "text": [
            "2.17.0\n"
          ]
        }
      ]
    },
    {
      "cell_type": "markdown",
      "source": [
        "**Objetivo**: entrenar un modelos de análisis de sentimientos para clasificar reseñas de películas como positivas o negativas, basado en las reviews. Esto para ejemplificar el modelo de clasificación binaria.\n",
        "\n",
        "El dataset tiene 50,000 reseñas de películas de Internet Movies Database; dividir en 25,000 para training y 25000 para testing."
      ],
      "metadata": {
        "id": "gsR-d3nqUEW2"
      }
    },
    {
      "cell_type": "code",
      "source": [
        "ruta_base= \"https://ai.stanford.edu/~amaas/data/sentiment/aclImdb_v1.tar.gz\" #definir URL\n",
        "\n",
        " #descargar achivo de URL,descomprimir,almacenar localmente\n",
        "base= tf.keras.utils.get_file(\"aclImdb_v1.tar.gz\", #nombre de archivo al almancenarlo localmente\n",
        "                              ruta_base, #URL del archivo\n",
        "                              untar=True, #en caso de arhivo esté comprimido, descomprimir\n",
        "                              cache_dir='.', #amlancenar en directorio actual\n",
        "                              cache_subdir='') #mo se creará subdirectorio\n",
        "base_dir = os.path.join(os.path.dirname(base), 'aclImdb') #obtener ruta del directorio base"
      ],
      "metadata": {
        "colab": {
          "base_uri": "https://localhost:8080/"
        },
        "id": "xa2CiqqCT_iG",
        "outputId": "3041d849-96d1-4126-8e5f-96990e409e3c"
      },
      "execution_count": 4,
      "outputs": [
        {
          "output_type": "stream",
          "name": "stdout",
          "text": [
            "Downloading data from https://ai.stanford.edu/~amaas/data/sentiment/aclImdb_v1.tar.gz\n",
            "\u001b[1m84125825/84125825\u001b[0m \u001b[32m━━━━━━━━━━━━━━━━━━━━\u001b[0m\u001b[37m\u001b[0m \u001b[1m12s\u001b[0m 0us/step\n"
          ]
        }
      ]
    },
    {
      "cell_type": "code",
      "source": [
        "os.listdir(base_dir) #ver nombre del contenido del directorio base"
      ],
      "metadata": {
        "colab": {
          "base_uri": "https://localhost:8080/"
        },
        "id": "8XlPuSjfWS4z",
        "outputId": "56588ad3-07de-47d9-b432-d7dd00a93a18"
      },
      "execution_count": 5,
      "outputs": [
        {
          "output_type": "execute_result",
          "data": {
            "text/plain": [
              "['README', 'train', 'imdbEr.txt', 'imdb.vocab', 'test']"
            ]
          },
          "metadata": {},
          "execution_count": 5
        }
      ]
    },
    {
      "cell_type": "code",
      "source": [
        "train_dir = os.path.join(base_dir, 'train') #obtener ruta del directorio train; combina el directorio: BASE_DIR + \"TRAIN\"\n",
        "os.listdir(train_dir) #ver nombre del contenido del directorio train"
      ],
      "metadata": {
        "colab": {
          "base_uri": "https://localhost:8080/"
        },
        "id": "tY8LSZ1jWTFg",
        "outputId": "e21b33f2-fba5-417e-8c2d-aa3476315d99"
      },
      "execution_count": 6,
      "outputs": [
        {
          "output_type": "execute_result",
          "data": {
            "text/plain": [
              "['urls_pos.txt',\n",
              " 'urls_neg.txt',\n",
              " 'neg',\n",
              " 'pos',\n",
              " 'labeledBow.feat',\n",
              " 'unsupBow.feat',\n",
              " 'urls_unsup.txt',\n",
              " 'unsup']"
            ]
          },
          "metadata": {},
          "execution_count": 6
        }
      ]
    },
    {
      "cell_type": "code",
      "source": [
        "sample_file = os.path.join(train_dir, 'pos/1181_9.txt') #obtener ruta del archivo de ejemplo\n",
        "#archivo \"pos/1181_9.txt\" <---capeta positivo, núm de archivo 1181, calificacion 9 de 10\n",
        "with open(sample_file) as f: #abrir archivo\n",
        "  print(f.read()) #imprimir contenido del archivo"
      ],
      "metadata": {
        "colab": {
          "base_uri": "https://localhost:8080/"
        },
        "id": "--4NsmhjWTH6",
        "outputId": "68328b1a-849a-4a52-9a5d-ee4c7e254ab5"
      },
      "execution_count": 7,
      "outputs": [
        {
          "output_type": "stream",
          "name": "stdout",
          "text": [
            "Rachel Griffiths writes and directs this award winning short film. A heartwarming story about coping with grief and cherishing the memory of those we've loved and lost. Although, only 15 minutes long, Griffiths manages to capture so much emotion and truth onto film in the short space of time. Bud Tingwell gives a touching performance as Will, a widower struggling to cope with his wife's death. Will is confronted by the harsh reality of loneliness and helplessness as he proceeds to take care of Ruth's pet cow, Tulip. The film displays the grief and responsibility one feels for those they have loved and lost. Good cinematography, great direction, and superbly acted. It will bring tears to all those who have lost a loved one, and survived.\n"
          ]
        }
      ]
    },
    {
      "cell_type": "markdown",
      "source": [
        "# Preparar data para entrenamiento"
      ],
      "metadata": {
        "id": "m0ARtLtiZoMm"
      }
    },
    {
      "cell_type": "markdown",
      "source": [
        "Para preparar el dataset de entrenamiento, necesitaremos dos carpetas, uno para \"class_a\" y \"class_b\"; donde se guardarán los positive and negative movies review, los cuales se encuentra en \"aclImbd/train/por\" y \"aclImbd/train/neg\". No obstante, como el IMBD dataset contiene otras carpetas, eliminaremos tales carpetas antes de utilizarlo"
      ],
      "metadata": {
        "id": "taY-BDqhZ_CD"
      }
    },
    {
      "cell_type": "code",
      "source": [
        "# Check if the directory exists before attempting to remove it\n",
        "remove_dir = os.path.join(train_dir, 'unsup') #combina ruta del directorio de entrenamiento con subdirectorio\"unsup\"\n",
        "if os.path.exists(remove_dir):\n",
        "  shutil.rmtree(remove_dir) #eliminar todo el directorio y su contenido ubicado en la ruta anterior\n",
        "else:\n",
        "  print(f\"Directory not found: {remove_dir}\")"
      ],
      "metadata": {
        "colab": {
          "base_uri": "https://localhost:8080/"
        },
        "id": "0ZrKhX40WTKj",
        "outputId": "420b3be3-e6f5-458c-b059-0de985739955"
      },
      "execution_count": 11,
      "outputs": [
        {
          "output_type": "stream",
          "name": "stdout",
          "text": [
            "Directory not found: ./aclImdb/train/unsup\n"
          ]
        }
      ]
    },
    {
      "cell_type": "code",
      "source": [
        "#Crear conjunto de datos de entrenamiento a partir de directorio que contiene texto\n",
        "\n",
        "batch_size = 32 #tamaño de lote de datos; procesará 32 ejemplos de datos en cada iteración del modelo\n",
        "seed = 42 #fijar semill 42, que garantiza el muestreo aleatorio se el mismo cada ejecución de código\n",
        "\n",
        "#cargar datos desde directorio, prepara lote de 32 emplos y dividir 20% datos para test y el resto para training\n",
        "raw_train_ds = tf.keras.utils.text_dataset_from_directory( #carga conjunto de datos de texto desde directorio\n",
        "    'aclImdb/train', #ruta de directorio\n",
        "    batch_size=batch_size, #tamaño de lote, que se definió arriba\n",
        "    validation_split=0.2, #dividir datos de entrenamiento 80% y 20% test\n",
        "    subset='training', #espeficicar extracción de subconjuto de entrenamiento\n",
        "    seed=seed) #seleccionar misma semilla"
      ],
      "metadata": {
        "colab": {
          "base_uri": "https://localhost:8080/"
        },
        "id": "9bFlU4KIWTN8",
        "outputId": "7e96f66a-771e-4c3f-d3b5-6501c31b37dd"
      },
      "execution_count": 12,
      "outputs": [
        {
          "output_type": "stream",
          "name": "stdout",
          "text": [
            "Found 25000 files belonging to 2 classes.\n",
            "Using 20000 files for training.\n"
          ]
        }
      ]
    },
    {
      "cell_type": "code",
      "source": [
        "#tomar un lote de entrenamiento y mostrar 3 ejemplos de reseñas junto con su etiqueta: 0 o 1 (neg o pos)\n",
        "\n",
        "for text_batch, label_batch in raw_train_ds.take(1): #el bucle toma un lote de conjunto de entrenamiento \"raw_train_ds\"\n",
        "  for i in range(3): #ejecutra el bucle 3 vecest\n",
        "    print(\"Review\", text_batch.numpy()[i]) # imprime la reseña del \"i\" review\n",
        "    print(\"Label\", label_batch.numpy()[i]) # imprime la etiqeta (0 o 1) del \"i\" review"
      ],
      "metadata": {
        "colab": {
          "base_uri": "https://localhost:8080/"
        },
        "id": "F6yAcng4eBru",
        "outputId": "41908a68-a727-401d-eb1e-f03cd6430b7b"
      },
      "execution_count": 13,
      "outputs": [
        {
          "output_type": "stream",
          "name": "stdout",
          "text": [
            "Review b'\"Pandemonium\" is a horror movie spoof that comes off more stupid than funny. Believe me when I tell you, I love comedies. Especially comedy spoofs. \"Airplane\", \"The Naked Gun\" trilogy, \"Blazing Saddles\", \"High Anxiety\", and \"Spaceballs\" are some of my favorite comedies that spoof a particular genre. \"Pandemonium\" is not up there with those films. Most of the scenes in this movie had me sitting there in stunned silence because the movie wasn\\'t all that funny. There are a few laughs in the film, but when you watch a comedy, you expect to laugh a lot more than a few times and that\\'s all this film has going for it. Geez, \"Scream\" had more laughs than this film and that was more of a horror film. How bizarre is that?<br /><br />*1/2 (out of four)'\n",
            "Label 0\n",
            "Review b\"David Mamet is a very interesting and a very un-equal director. His first movie 'House of Games' was the one I liked best, and it set a series of films with characters whose perspective of life changes as they get into complicated situations, and so does the perspective of the viewer.<br /><br />So is 'Homicide' which from the title tries to set the mind of the viewer to the usual crime drama. The principal characters are two cops, one Jewish and one Irish who deal with a racially charged area. The murder of an old Jewish shop owner who proves to be an ancient veteran of the Israeli Independence war triggers the Jewish identity in the mind and heart of the Jewish detective.<br /><br />This is were the flaws of the film are the more obvious. The process of awakening is theatrical and hard to believe, the group of Jewish militants is operatic, and the way the detective eventually walks to the final violent confrontation is pathetic. The end of the film itself is Mamet-like smart, but disappoints from a human emotional perspective.<br /><br />Joe Mantegna and William Macy give strong performances, but the flaws of the story are too evident to be easily compensated.\"\n",
            "Label 0\n",
            "Review b'Great documentary about the lives of NY firefighters during the worst terrorist attack of all time.. That reason alone is why this should be a must see collectors item.. What shocked me was not only the attacks, but the\"High Fat Diet\" and physical appearance of some of these firefighters. I think a lot of Doctors would agree with me that,in the physical shape they were in, some of these firefighters would NOT of made it to the 79th floor carrying over 60 lbs of gear. Having said that i now have a greater respect for firefighters and i realize becoming a firefighter is a life altering job. The French have a history of making great documentary\\'s and that is what this is, a Great Documentary.....'\n",
            "Label 1\n"
          ]
        }
      ]
    },
    {
      "cell_type": "code",
      "source": [
        "#Las etiquetas 0 y 1 a negativo o positivo?\n",
        "\n",
        "print(\"Etiqueta 0 corresponde a:\", raw_train_ds.class_names[0])#del dataset \"raw_train_ds\" aplicar el atributo \"class_name\" para ver label 0\n",
        "print(\"Etiqueta 1 corresponde a:\", raw_train_ds.class_names[1])"
      ],
      "metadata": {
        "colab": {
          "base_uri": "https://localhost:8080/"
        },
        "id": "6Q2lagHAegHz",
        "outputId": "0983ce55-deb9-4306-a6a9-93e85cafed80"
      },
      "execution_count": 17,
      "outputs": [
        {
          "output_type": "stream",
          "name": "stdout",
          "text": [
            "Etiqueta 0 corresponde a: neg\n",
            "Etiqueta 1 corresponde a: pos\n"
          ]
        }
      ]
    },
    {
      "cell_type": "markdown",
      "source": [
        "#Crear dataset test y validation"
      ],
      "metadata": {
        "id": "h6FG4O_Bi0YR"
      }
    },
    {
      "cell_type": "code",
      "source": [
        "#generar conjunto de datos de validación a partir del 20% del conjuto de datos de entrenamiento\n",
        "raw_val_ds = tf.keras.utils.text_dataset_from_directory( #cargar dataset de un directorio\n",
        "    'aclImdb/train', #indica del directorio\n",
        "    batch_size=batch_size, #tamaño de lote, 32 como lo definimos anteriomente\n",
        "    validation_split=0.2, #indicar que 20% será para validación\n",
        "    subset='validation',#conjunot de datos debe ser el subconjunto de validación\n",
        "    seed=seed) #misma semilla para que sea reproduccible de conjunto de datos"
      ],
      "metadata": {
        "colab": {
          "base_uri": "https://localhost:8080/"
        },
        "id": "pDp6lHq7gBhf",
        "outputId": "f4a840cd-f830-4e32-f681-06d610063bf7"
      },
      "execution_count": 18,
      "outputs": [
        {
          "output_type": "stream",
          "name": "stdout",
          "text": [
            "Found 25000 files belonging to 2 classes.\n",
            "Using 5000 files for validation.\n"
          ]
        }
      ]
    },
    {
      "cell_type": "code",
      "source": [
        "#cargar conjunto de datos test desde directorio, oganizarlo en lotes de 32 review cada uno\n",
        "\n",
        "raw_test_ds = tf.keras.utils.text_dataset_from_directory(\n",
        "    'aclImdb/test',\n",
        "    batch_size=batch_size)"
      ],
      "metadata": {
        "colab": {
          "base_uri": "https://localhost:8080/"
        },
        "id": "MDiCIyCGjvi_",
        "outputId": "3fbd658f-03cb-4093-ffe4-c1eb3f25505c"
      },
      "execution_count": 19,
      "outputs": [
        {
          "output_type": "stream",
          "name": "stdout",
          "text": [
            "Found 25000 files belonging to 2 classes.\n"
          ]
        }
      ]
    },
    {
      "cell_type": "markdown",
      "source": [
        "#Preparar dataset para entrenamiento"
      ],
      "metadata": {
        "id": "RXiyfRWbkHN5"
      }
    },
    {
      "cell_type": "markdown",
      "source": [
        "Vamos a estandarizar, tokenizar y vectorizar los datos usando \"tf.keras.layer.TextVectorization\"\n",
        "\n",
        "* Estandarizar: preprocesar el texto, por ejemplo, remover puntuacion or elementos HTML para simplicar dataset.\n",
        "* Tokenizacion: se refiere a dividir los string en tokens (por ejemplo, dividir una oración en palabras invividuales.\n",
        "* Vectorizar: convertir tokens en números para introducirse en una red neuronal. Lo anterior lo podemos completar en una capa.\n",
        "\n"
      ],
      "metadata": {
        "id": "ceeBHYZkkf4C"
      }
    },
    {
      "cell_type": "markdown",
      "source": [
        "Debido a que las reseñas contiene varios tags de HTML, dichos tags no pueden ser eliminadas en la capa \"TextVectorization\"; por ello se realizará una estandarización personalizada de los textos de entrada"
      ],
      "metadata": {
        "id": "F8llNpoOmEE1"
      }
    },
    {
      "cell_type": "code",
      "source": [
        "def custom_standardization(input_data):\n",
        "  lowercase = tf.strings.lower(input_data) #convetir texto de entrada en minúsculas\n",
        "  stripped_html = tf.strings.regex_replace(lowercase, '<br />', ' ') #untilizar \"regex\" para convertir \"<br />\" en \" \"\n",
        "  return tf.strings.regex_replace(stripped_html, #eliminar signos de puntuación\n",
        "                                  '[%s]' % re.escape(string.punctuation),\n",
        "                                  '')"
      ],
      "metadata": {
        "id": "dnFUH_mHkJIk"
      },
      "execution_count": 21,
      "outputs": []
    },
    {
      "cell_type": "markdown",
      "source": [
        "# Crear una capa de vectorización de text"
      ],
      "metadata": {
        "id": "6OZShi5unbQE"
      }
    },
    {
      "cell_type": "code",
      "source": [
        "#crear capa de vectorización con la función de estandarización que realizamos\n",
        "\n",
        "max_features = 10000 #num maximo de palabras o tokesn\n",
        "sequence_length = 250 #secuencias de textos tendrán 250 palabras\n",
        "\n",
        "vectorize_layer = layers.TextVectorization( #crear capa de vectorización de texto de KERAS: TextVectorization; tranforma texto en secuenica de enteros\n",
        "    standardize=custom_standardization, #función de estandarización, usar el que definimos previamente\n",
        "    max_tokens=max_features, #limitar vocabulario a 10,000 más frecuentes, palabras menos comúnes se omiten\n",
        "    output_mode='int', #especificar que texto se convertirá en secuencias de enteros; ej, palabra más frecuente=1, 2da frecuente=2, etc.\n",
        "    output_sequence_length=sequence_length)#cada secuencia tendrá 250 palabras, si teine menos se rellenará con cero, si más de 250 se cortará"
      ],
      "metadata": {
        "id": "UWjj_tbkkSXo"
      },
      "execution_count": 22,
      "outputs": []
    },
    {
      "cell_type": "code",
      "source": [
        "# crear conjunto de datos de solo texto a partir de conjunto de datos orginal: raw_train_ds; eliminando etiquelas\n",
        "train_text = raw_train_ds.map(lambda x, y: x) #tomar el dataset \"raw_train_ds\" y mantiene solo el texto, elimina el label\n",
        "vectorize_layer.adapt(train_text) #con la función \"adapt()\" se ajusta la capa; es decir, la capa aprende el vocabulario y mapea las palabras a enteros"
      ],
      "metadata": {
        "id": "R-tZnhmmpfVw"
      },
      "execution_count": 23,
      "outputs": []
    },
    {
      "cell_type": "code",
      "source": [
        "#definir función que tome texto con etiqueta, luego convertirlo en número\n",
        "def vectorize_text(text, label): #definir función que toma 2 parámetros\n",
        "  text = tf.expand_dims(text, -1) #función añade una nueva dimensión al final del tensor\n",
        "  return vectorize_layer(text), label #devuelve tupla con: resultado de vectorización de TEXT y el LABEL"
      ],
      "metadata": {
        "id": "kXNSjdyWrUU0"
      },
      "execution_count": 25,
      "outputs": []
    },
    {
      "cell_type": "code",
      "execution_count": 31,
      "metadata": {
        "id": "XULcm6B3xQIO",
        "colab": {
          "base_uri": "https://localhost:8080/"
        },
        "outputId": "c15f854d-91fc-4ae7-f897-7d3f1fefc4a9"
      },
      "outputs": [
        {
          "output_type": "stream",
          "name": "stdout",
          "text": [
            "Reseña orginal:  tf.Tensor(b'Every scene was put together perfectly.This movie had a wonderful cast and crew. I mean, how can you have a bad movie with Robert Downey Jr. in it,none have and ever will exist. He has the ability to brighten up any movie with his amazing talent.This movie was perfect! I saw this movie sitting all alone on a movie shelf in \"Blockbuster\" and like it was calling out to me,I couldn\\'t resist picking it up and bringing it home with me. You can call me a sappy romantic, but this movie just touched my heart, not to mention made me laugh with pleasure at the same time. Even though it made me cry,I admit, at the end, the whole movie just brightened up my outlook on life thereafter.I suggested to my horror, action, and pure humor movie buff of a brother,who absolutely adored this movie. This is a movie with a good sense of feeling.It could make you laugh out loud, touch your heart, make you fall in love,and enjoy your life.Every time you purposefully walk past this movie, just be aware that you are consciously making the choice to live and feel this inspiring movie.Who knows? What if it could really happen to you?, and keep your mind open to the mystical wonders of life.', shape=(), dtype=string)\n",
            "Etiqueta original:  pos\n",
            "Resena Vectorizada:  (<tf.Tensor: shape=(1, 250), dtype=int64, numpy=\n",
            "array([[ 165,  134,   13,  268,  281,    1,   17,   66,    4,  386,  173,\n",
            "           3, 1037,   10,  380,   87,   68,   22,   25,    4,   80,   17,\n",
            "          16,  639, 5838, 1782,    8,    1,   25,    3,  121,   76, 1790,\n",
            "          27,   43,    2, 1220,    6,    1,   56,   97,   17,   16,   24,\n",
            "         463,    1,   17,   13,  397,   10,  208,   11,   17, 1218,   30,\n",
            "         579,   20,    4,   17, 4141,    8, 2651,    3,   38,    9,   13,\n",
            "        2787,   44,    6,    1,  403, 4873, 3629,    9,   56,    3, 2307,\n",
            "           9,  345,   16,   69,   22,   68,  675,   69,    4, 4447,  736,\n",
            "          18,   11,   17,   40, 2727,   54,  526,   21,    6,  750,   90,\n",
            "          69,  472,   16, 1673,   31,    2,  164,   58,   53,  147,    9,\n",
            "          90,   69,    1,  951,   31,    2,  124,    2,  211,   17,   40,\n",
            "           1,   56,   54,    1,   20,  116,    1, 5162,    6,   54,  191,\n",
            "         216,    3, 1005,  474,   17, 4259,    5,    4,    1,  409,    1,\n",
            "          11,   17,   11,    7,    4,   17,   16,    4,   49,  271,    5,\n",
            "           1,   98,   96,   22,  472,   44, 1306, 1166,  123,  526,   96,\n",
            "          22,  759,    8,    1,  347,  123,    1,   58,   22,    1, 1145,\n",
            "         491,   11,   17,   40,   26, 1918,   12,   22,   23,    1,  249,\n",
            "           2, 1074,    6,  419,    3,  232,   11, 3603,    1,  682,   48,\n",
            "          45,    9,   98,   62,  562,    6,   22,    3,  372,  123,  339,\n",
            "         959,    6,    2, 6614, 3536,    5,  116,    0,    0,    0,    0,\n",
            "           0,    0,    0,    0,    0,    0,    0,    0,    0,    0,    0,\n",
            "           0,    0,    0,    0,    0,    0,    0,    0,    0,    0,    0,\n",
            "           0,    0,    0,    0,    0,    0,    0,    0]])>, <tf.Tensor: shape=(), dtype=int32, numpy=1>)\n"
          ]
        }
      ],
      "source": [
        "# de un lote de 32 reseñas, ver una reseña vectorizada con su LABEL\n",
        "text_batch, label_batch = next(iter(raw_train_ds)) #iterar sobre base \"raw_train_ds\" y recueperar 32 reviews y labels\n",
        "first_review, first_label = text_batch[0], label_batch[0] #extraer 1ra reseña y 1ra label\n",
        "print(\"Reseña orginal: \", first_review)\n",
        "print(\"Etiqueta original: \", raw_train_ds.class_names[first_label])\n",
        "print(\"Resena Vectorizada: \", vectorize_text(first_review, first_label))"
      ]
    },
    {
      "cell_type": "code",
      "source": [
        "#ver vocabulario de una capa vectorizada\n",
        "\n",
        "print(\"1287 ---> \",vectorize_layer.get_vocabulary()[1287]) #ver a palabra en posición 1287 del vocabulario aprendido en la capa vectorizada\n",
        "print(\" 313 ---> \",vectorize_layer.get_vocabulary()[313])\n",
        "print('Vocabulary size: {}'.format(len(vectorize_layer.get_vocabulary())))"
      ],
      "metadata": {
        "colab": {
          "base_uri": "https://localhost:8080/"
        },
        "id": "mg0nvJznrzuu",
        "outputId": "d9fb9b38-72a0-4a2f-82b8-9d5f7c80d600"
      },
      "execution_count": 32,
      "outputs": [
        {
          "output_type": "stream",
          "name": "stdout",
          "text": [
            "1287 --->  silent\n",
            " 313 --->  night\n",
            "Vocabulary size: 10000\n"
          ]
        }
      ]
    },
    {
      "cell_type": "code",
      "source": [
        "#aplicar la capa TextVectorization a conjunto de datos: train, validation y test\n",
        "\n",
        "train_ds = raw_train_ds.map(vectorize_text) #la función MAP aplica la función VECTORIZE_TEXT a cada elemento de dataset \"raw_trian_ds\"\n",
        "val_ds = raw_val_ds.map(vectorize_text)#aplicar función VECTORIZE_TEXT a conjunto \"raw_val_ds\"\n",
        "test_ds = raw_test_ds.map(vectorize_text)"
      ],
      "metadata": {
        "id": "w6AAfXnqvEVj"
      },
      "execution_count": 34,
      "outputs": []
    },
    {
      "cell_type": "markdown",
      "source": [
        "# Configurar rendimiento del procesamiento de datos"
      ],
      "metadata": {
        "id": "CTZx7Rz2wj5I"
      }
    },
    {
      "cell_type": "markdown",
      "source": [
        "* .cache() mantiene datos en memoria después de que se carguen fuera del disco\n",
        "* .prefetch() superpone el preprocesamiento de datos y la ejecución del modelo durante el entrenamiento"
      ],
      "metadata": {
        "id": "DXDFN1PIxAfJ"
      }
    },
    {
      "cell_type": "code",
      "source": [
        "AUTOTUNE = tf.data.AUTOTUNE #\"autotune\" se utiliza para optimizar automáticamente el prefething del tamaño del buffer\n",
        "\n",
        "train_ds = train_ds.cache().prefetch(buffer_size=AUTOTUNE) #almacena en caché el conjunto de datos de entreanmiento\n",
        "  #depués de procesado, cada carga sig se hará desde el caché y no desde el origen--<mejora velocidad; \"prefetch\" carga de datos en paralelo\n",
        "val_ds = val_ds.cache().prefetch(buffer_size=AUTOTUNE)#almacena data en cahé para evitar volver a procesar,\n",
        "  #utilizar prefetch para preparar datos en paralele\n",
        "test_ds = test_ds.cache().prefetch(buffer_size=AUTOTUNE)"
      ],
      "metadata": {
        "id": "tc7DqFo8w_qr"
      },
      "execution_count": 36,
      "outputs": []
    },
    {
      "cell_type": "markdown",
      "source": [
        "#Creación de modelo"
      ],
      "metadata": {
        "id": "bN0hme9py4rZ"
      }
    },
    {
      "cell_type": "code",
      "source": [
        "#definir dimensión del espacio de \"embedding\": cada palabra/token en el vocabulario se representará como vector de 16 dimensiones\n",
        "\n",
        "embedding_dim = 16"
      ],
      "metadata": {
        "id": "HBkgaB9fwhMg"
      },
      "execution_count": 38,
      "outputs": []
    },
    {
      "cell_type": "code",
      "source": [
        "#Definir modelo de red neuronal utilizando API de Keras en TensorFlow\n",
        "\n",
        "\n",
        "model = tf.keras.Sequential([ #crear modelo secuencial, para apilar capas de forma lineal\n",
        "  layers.Embedding(max_features, embedding_dim), #capa que convierte palabras/tokens en vector de embedding\n",
        "  layers.Dropout(0.2), #capa para reducir overfitting durante trainig, desactiva aleatoriamente 20% de neuronas en cada entrenamiento\n",
        "  layers.GlobalAveragePooling1D(), #capa reduce dimensionalidad de la salida de capa de embedding;\n",
        "  layers.Dropout(0.2), #otra capa que ayuda a reducir sobreajuste\n",
        "  layers.Dense(1, activation='sigmoid')]) #capa densa que produce única salida; usa función de activación SGIMOIDE\n",
        "    #para mapear salida entre 0 y 1, un probabilidad depertenencia de calse\n",
        "\n",
        "model.summary() #proporciona resumne del modelo"
      ],
      "metadata": {
        "colab": {
          "base_uri": "https://localhost:8080/",
          "height": 317
        },
        "id": "GM4C9aSuy-mO",
        "outputId": "47a081af-be5b-4664-c91b-405ecd378f05"
      },
      "execution_count": 40,
      "outputs": [
        {
          "output_type": "display_data",
          "data": {
            "text/plain": [
              "\u001b[1mModel: \"sequential_1\"\u001b[0m\n"
            ],
            "text/html": [
              "<pre style=\"white-space:pre;overflow-x:auto;line-height:normal;font-family:Menlo,'DejaVu Sans Mono',consolas,'Courier New',monospace\"><span style=\"font-weight: bold\">Model: \"sequential_1\"</span>\n",
              "</pre>\n"
            ]
          },
          "metadata": {}
        },
        {
          "output_type": "display_data",
          "data": {
            "text/plain": [
              "┏━━━━━━━━━━━━━━━━━━━━━━━━━━━━━━━━━━━━━━┳━━━━━━━━━━━━━━━━━━━━━━━━━━━━━┳━━━━━━━━━━━━━━━━━┓\n",
              "┃\u001b[1m \u001b[0m\u001b[1mLayer (type)                        \u001b[0m\u001b[1m \u001b[0m┃\u001b[1m \u001b[0m\u001b[1mOutput Shape               \u001b[0m\u001b[1m \u001b[0m┃\u001b[1m \u001b[0m\u001b[1m        Param #\u001b[0m\u001b[1m \u001b[0m┃\n",
              "┡━━━━━━━━━━━━━━━━━━━━━━━━━━━━━━━━━━━━━━╇━━━━━━━━━━━━━━━━━━━━━━━━━━━━━╇━━━━━━━━━━━━━━━━━┩\n",
              "│ embedding_1 (\u001b[38;5;33mEmbedding\u001b[0m)              │ ?                           │     \u001b[38;5;34m0\u001b[0m (unbuilt) │\n",
              "├──────────────────────────────────────┼─────────────────────────────┼─────────────────┤\n",
              "│ dropout_2 (\u001b[38;5;33mDropout\u001b[0m)                  │ ?                           │     \u001b[38;5;34m0\u001b[0m (unbuilt) │\n",
              "├──────────────────────────────────────┼─────────────────────────────┼─────────────────┤\n",
              "│ global_average_pooling1d_1           │ ?                           │     \u001b[38;5;34m0\u001b[0m (unbuilt) │\n",
              "│ (\u001b[38;5;33mGlobalAveragePooling1D\u001b[0m)             │                             │                 │\n",
              "├──────────────────────────────────────┼─────────────────────────────┼─────────────────┤\n",
              "│ dropout_3 (\u001b[38;5;33mDropout\u001b[0m)                  │ ?                           │     \u001b[38;5;34m0\u001b[0m (unbuilt) │\n",
              "├──────────────────────────────────────┼─────────────────────────────┼─────────────────┤\n",
              "│ dense_1 (\u001b[38;5;33mDense\u001b[0m)                      │ ?                           │     \u001b[38;5;34m0\u001b[0m (unbuilt) │\n",
              "└──────────────────────────────────────┴─────────────────────────────┴─────────────────┘\n"
            ],
            "text/html": [
              "<pre style=\"white-space:pre;overflow-x:auto;line-height:normal;font-family:Menlo,'DejaVu Sans Mono',consolas,'Courier New',monospace\">┏━━━━━━━━━━━━━━━━━━━━━━━━━━━━━━━━━━━━━━┳━━━━━━━━━━━━━━━━━━━━━━━━━━━━━┳━━━━━━━━━━━━━━━━━┓\n",
              "┃<span style=\"font-weight: bold\"> Layer (type)                         </span>┃<span style=\"font-weight: bold\"> Output Shape                </span>┃<span style=\"font-weight: bold\">         Param # </span>┃\n",
              "┡━━━━━━━━━━━━━━━━━━━━━━━━━━━━━━━━━━━━━━╇━━━━━━━━━━━━━━━━━━━━━━━━━━━━━╇━━━━━━━━━━━━━━━━━┩\n",
              "│ embedding_1 (<span style=\"color: #0087ff; text-decoration-color: #0087ff\">Embedding</span>)              │ ?                           │     <span style=\"color: #00af00; text-decoration-color: #00af00\">0</span> (unbuilt) │\n",
              "├──────────────────────────────────────┼─────────────────────────────┼─────────────────┤\n",
              "│ dropout_2 (<span style=\"color: #0087ff; text-decoration-color: #0087ff\">Dropout</span>)                  │ ?                           │     <span style=\"color: #00af00; text-decoration-color: #00af00\">0</span> (unbuilt) │\n",
              "├──────────────────────────────────────┼─────────────────────────────┼─────────────────┤\n",
              "│ global_average_pooling1d_1           │ ?                           │     <span style=\"color: #00af00; text-decoration-color: #00af00\">0</span> (unbuilt) │\n",
              "│ (<span style=\"color: #0087ff; text-decoration-color: #0087ff\">GlobalAveragePooling1D</span>)             │                             │                 │\n",
              "├──────────────────────────────────────┼─────────────────────────────┼─────────────────┤\n",
              "│ dropout_3 (<span style=\"color: #0087ff; text-decoration-color: #0087ff\">Dropout</span>)                  │ ?                           │     <span style=\"color: #00af00; text-decoration-color: #00af00\">0</span> (unbuilt) │\n",
              "├──────────────────────────────────────┼─────────────────────────────┼─────────────────┤\n",
              "│ dense_1 (<span style=\"color: #0087ff; text-decoration-color: #0087ff\">Dense</span>)                      │ ?                           │     <span style=\"color: #00af00; text-decoration-color: #00af00\">0</span> (unbuilt) │\n",
              "└──────────────────────────────────────┴─────────────────────────────┴─────────────────┘\n",
              "</pre>\n"
            ]
          },
          "metadata": {}
        },
        {
          "output_type": "display_data",
          "data": {
            "text/plain": [
              "\u001b[1m Total params: \u001b[0m\u001b[38;5;34m0\u001b[0m (0.00 B)\n"
            ],
            "text/html": [
              "<pre style=\"white-space:pre;overflow-x:auto;line-height:normal;font-family:Menlo,'DejaVu Sans Mono',consolas,'Courier New',monospace\"><span style=\"font-weight: bold\"> Total params: </span><span style=\"color: #00af00; text-decoration-color: #00af00\">0</span> (0.00 B)\n",
              "</pre>\n"
            ]
          },
          "metadata": {}
        },
        {
          "output_type": "display_data",
          "data": {
            "text/plain": [
              "\u001b[1m Trainable params: \u001b[0m\u001b[38;5;34m0\u001b[0m (0.00 B)\n"
            ],
            "text/html": [
              "<pre style=\"white-space:pre;overflow-x:auto;line-height:normal;font-family:Menlo,'DejaVu Sans Mono',consolas,'Courier New',monospace\"><span style=\"font-weight: bold\"> Trainable params: </span><span style=\"color: #00af00; text-decoration-color: #00af00\">0</span> (0.00 B)\n",
              "</pre>\n"
            ]
          },
          "metadata": {}
        },
        {
          "output_type": "display_data",
          "data": {
            "text/plain": [
              "\u001b[1m Non-trainable params: \u001b[0m\u001b[38;5;34m0\u001b[0m (0.00 B)\n"
            ],
            "text/html": [
              "<pre style=\"white-space:pre;overflow-x:auto;line-height:normal;font-family:Menlo,'DejaVu Sans Mono',consolas,'Courier New',monospace\"><span style=\"font-weight: bold\"> Non-trainable params: </span><span style=\"color: #00af00; text-decoration-color: #00af00\">0</span> (0.00 B)\n",
              "</pre>\n"
            ]
          },
          "metadata": {}
        }
      ]
    },
    {
      "cell_type": "markdown",
      "source": [
        "#Función de pérdida y optimización"
      ],
      "metadata": {
        "id": "JAWFvquR1_Tx"
      }
    },
    {
      "cell_type": "code",
      "source": [
        "#comfigurar modelo para entrenamiento\n",
        "\n",
        "model.compile(loss=losses.BinaryCrossentropy(), #usar Binary cross entropy mide diferencia entre etiqueta real y preodccion de modelo\n",
        "              optimizer='adam', #utilizar ADAM optimizador, ajusta tasa de aprendizaje para cada parámetro adaptatiamente\n",
        "              metrics=[tf.metrics.BinaryAccuracy(threshold=0.5)]) #definir métricas que se utilizarn para evaluar el rediminto de modelo"
      ],
      "metadata": {
        "id": "GsNgl0lR15Gk"
      },
      "execution_count": 42,
      "outputs": []
    },
    {
      "cell_type": "markdown",
      "source": [
        "# Entrenar modelo"
      ],
      "metadata": {
        "id": "Dns9CNaT3BnI"
      }
    },
    {
      "cell_type": "code",
      "source": [
        "#Entrenar modelo:\n",
        "\n",
        "epochs = 10 #núm de épocas que se utilizar para entrenar modelo; modelo pasará por todo el conjunto de datos de entrenameinto 10 veces\n",
        "history = model.fit( #entrenam modelo utlizando datos\n",
        "    train_ds, #datos para entrenar y con el cual se ajustará el modelo\n",
        "    validation_data=val_ds, #datos de validación para evaluar rendimiento en cada época; monitoreas overfitting\n",
        "    epochs=epochs) #especificar núm de epocas"
      ],
      "metadata": {
        "colab": {
          "base_uri": "https://localhost:8080/"
        },
        "id": "j2t0gamz2Q6m",
        "outputId": "50436a0f-8194-41d3-d209-0ded7e19b33c"
      },
      "execution_count": 43,
      "outputs": [
        {
          "output_type": "stream",
          "name": "stdout",
          "text": [
            "Epoch 1/10\n",
            "\u001b[1m625/625\u001b[0m \u001b[32m━━━━━━━━━━━━━━━━━━━━\u001b[0m\u001b[37m\u001b[0m \u001b[1m8s\u001b[0m 12ms/step - binary_accuracy: 0.5787 - loss: 0.6816 - val_binary_accuracy: 0.7274 - val_loss: 0.6114\n",
            "Epoch 2/10\n",
            "\u001b[1m625/625\u001b[0m \u001b[32m━━━━━━━━━━━━━━━━━━━━\u001b[0m\u001b[37m\u001b[0m \u001b[1m7s\u001b[0m 6ms/step - binary_accuracy: 0.7557 - loss: 0.5786 - val_binary_accuracy: 0.8072 - val_loss: 0.4960\n",
            "Epoch 3/10\n",
            "\u001b[1m625/625\u001b[0m \u001b[32m━━━━━━━━━━━━━━━━━━━━\u001b[0m\u001b[37m\u001b[0m \u001b[1m3s\u001b[0m 6ms/step - binary_accuracy: 0.8208 - loss: 0.4678 - val_binary_accuracy: 0.8398 - val_loss: 0.4222\n",
            "Epoch 4/10\n",
            "\u001b[1m625/625\u001b[0m \u001b[32m━━━━━━━━━━━━━━━━━━━━\u001b[0m\u001b[37m\u001b[0m \u001b[1m5s\u001b[0m 8ms/step - binary_accuracy: 0.8484 - loss: 0.3982 - val_binary_accuracy: 0.8480 - val_loss: 0.3825\n",
            "Epoch 5/10\n",
            "\u001b[1m625/625\u001b[0m \u001b[32m━━━━━━━━━━━━━━━━━━━━\u001b[0m\u001b[37m\u001b[0m \u001b[1m4s\u001b[0m 6ms/step - binary_accuracy: 0.8666 - loss: 0.3513 - val_binary_accuracy: 0.8566 - val_loss: 0.3541\n",
            "Epoch 6/10\n",
            "\u001b[1m625/625\u001b[0m \u001b[32m━━━━━━━━━━━━━━━━━━━━\u001b[0m\u001b[37m\u001b[0m \u001b[1m4s\u001b[0m 7ms/step - binary_accuracy: 0.8781 - loss: 0.3191 - val_binary_accuracy: 0.8618 - val_loss: 0.3364\n",
            "Epoch 7/10\n",
            "\u001b[1m625/625\u001b[0m \u001b[32m━━━━━━━━━━━━━━━━━━━━\u001b[0m\u001b[37m\u001b[0m \u001b[1m6s\u001b[0m 8ms/step - binary_accuracy: 0.8894 - loss: 0.2938 - val_binary_accuracy: 0.8600 - val_loss: 0.3272\n",
            "Epoch 8/10\n",
            "\u001b[1m625/625\u001b[0m \u001b[32m━━━━━━━━━━━━━━━━━━━━\u001b[0m\u001b[37m\u001b[0m \u001b[1m4s\u001b[0m 7ms/step - binary_accuracy: 0.8966 - loss: 0.2739 - val_binary_accuracy: 0.8626 - val_loss: 0.3188\n",
            "Epoch 9/10\n",
            "\u001b[1m625/625\u001b[0m \u001b[32m━━━━━━━━━━━━━━━━━━━━\u001b[0m\u001b[37m\u001b[0m \u001b[1m4s\u001b[0m 6ms/step - binary_accuracy: 0.9039 - loss: 0.2567 - val_binary_accuracy: 0.8680 - val_loss: 0.3101\n",
            "Epoch 10/10\n",
            "\u001b[1m625/625\u001b[0m \u001b[32m━━━━━━━━━━━━━━━━━━━━\u001b[0m\u001b[37m\u001b[0m \u001b[1m5s\u001b[0m 9ms/step - binary_accuracy: 0.9102 - loss: 0.2421 - val_binary_accuracy: 0.8666 - val_loss: 0.3099\n"
          ]
        }
      ]
    },
    {
      "cell_type": "markdown",
      "source": [
        "# Evaluación del modelo"
      ],
      "metadata": {
        "id": "X7nT_7lt4h-L"
      }
    },
    {
      "cell_type": "code",
      "source": [
        "# evaluar rendimiento de modelo entrenado en un conjunto de prueba\n",
        "\n",
        "loss, accuracy = model.evaluate(test_ds) #evaluar modelo utlizando datos de prueba: test_ds; cacula función de eridad y métricas\n",
        "\n",
        "print(\"Loss: \", loss)\n",
        "print(\"Accuracy: \", accuracy)"
      ],
      "metadata": {
        "colab": {
          "base_uri": "https://localhost:8080/"
        },
        "id": "eN_YVJrm4b6D",
        "outputId": "4f329704-b3e7-4325-d488-1a06fa9c983b"
      },
      "execution_count": 44,
      "outputs": [
        {
          "output_type": "stream",
          "name": "stdout",
          "text": [
            "\u001b[1m782/782\u001b[0m \u001b[32m━━━━━━━━━━━━━━━━━━━━\u001b[0m\u001b[37m\u001b[0m \u001b[1m9s\u001b[0m 12ms/step - binary_accuracy: 0.8609 - loss: 0.3288\n",
            "Loss:  0.3283936679363251\n",
            "Accuracy:  0.85944002866745\n"
          ]
        }
      ]
    },
    {
      "cell_type": "markdown",
      "source": [
        "# Crear gráfica de accuracy y loss"
      ],
      "metadata": {
        "id": "2RQhydE25F5_"
      }
    },
    {
      "cell_type": "code",
      "source": [
        "#acceder al diccionario de hisotia del objeto \"history\" y obtiene las claves que representan las me´tricas y perdida\n",
        "\n",
        "history_dict = history.history #obtener diccionario que alamcena valodes de la smetricas y pérdida\n",
        "history_dict.keys() #obtner las KEY del diccionario"
      ],
      "metadata": {
        "colab": {
          "base_uri": "https://localhost:8080/"
        },
        "id": "htb9Ix1w4nbw",
        "outputId": "b05083a0-b1a6-4ca4-87aa-4a1018d0c022"
      },
      "execution_count": 45,
      "outputs": [
        {
          "output_type": "execute_result",
          "data": {
            "text/plain": [
              "dict_keys(['binary_accuracy', 'loss', 'val_binary_accuracy', 'val_loss'])"
            ]
          },
          "metadata": {},
          "execution_count": 45
        }
      ]
    },
    {
      "cell_type": "code",
      "source": [
        "#graficar las función de péridad en el entrenamiento y validación del modelo en las 10 epocas\n",
        "\n",
        "acc = history_dict['binary_accuracy']\n",
        "val_acc = history_dict['val_binary_accuracy']\n",
        "loss = history_dict['loss']\n",
        "val_loss = history_dict['val_loss']\n",
        "\n",
        "epochs = range(1, len(acc) + 1)\n",
        "\n",
        "# \"bo\" para punto azul\n",
        "plt.plot(epochs, loss, 'bo', label='Pérdida de entrenamiento')\n",
        "# \"b\" para línea sólida\n",
        "plt.plot(epochs, val_loss, 'b', label='Pérdida de validación')\n",
        "plt.title('Función de pérdida de entrenamiento y validación')\n",
        "plt.xlabel('Epocas')\n",
        "plt.ylabel('Pérdida')\n",
        "plt.legend()\n",
        "\n",
        "plt.show()"
      ],
      "metadata": {
        "colab": {
          "base_uri": "https://localhost:8080/",
          "height": 472
        },
        "id": "tG3pKQbH4nfb",
        "outputId": "11943351-992d-402a-f96a-28cb61441169"
      },
      "execution_count": 47,
      "outputs": [
        {
          "output_type": "display_data",
          "data": {
            "text/plain": [
              "<Figure size 640x480 with 1 Axes>"
            ],
            "image/png": "[encoded data removed]"
          },
          "metadata": {}
        }
      ]
    },
    {
      "cell_type": "code",
      "source": [
        "plt.plot(epochs, acc, 'bo', label='Precisión entrenamiento')\n",
        "plt.plot(epochs, val_acc, 'b', label='Precisión validación')\n",
        "plt.title('Precisión en entrenamiento y validación')\n",
        "plt.xlabel('Epocas')\n",
        "plt.ylabel('Precisión')\n",
        "plt.legend(loc='lower right')\n",
        "\n",
        "plt.show()"
      ],
      "metadata": {
        "colab": {
          "base_uri": "https://localhost:8080/",
          "height": 472
        },
        "id": "wIwbYoYv4nir",
        "outputId": "4908ba25-6060-4b19-9366-4f927d0ad842"
      },
      "execution_count": 48,
      "outputs": [
        {
          "output_type": "display_data",
          "data": {
            "text/plain": [
              "<Figure size 640x480 with 1 Axes>"
            ],
            "image/png": "[encoded data removed]"
          },
          "metadata": {}
        }
      ]
    },
    {
      "cell_type": "markdown",
      "source": [
        "# Modelo final"
      ],
      "metadata": {
        "id": "qa2YSltS7yge"
      }
    },
    {
      "cell_type": "code",
      "source": [
        "#Crear un modelo exportado que incluye capa de vectorizacion como modelo entrenado\n",
        "  # y luego evalua datos de prueba en bruto: raw_test_ds\n",
        "\n",
        "export_model = tf.keras.Sequential([ #crea modelo secuencial con 3 capas\n",
        "  vectorize_layer, #capa de vectorizacion conviete texto en num\n",
        "  model, #modelo entrenado previamente con 3 capas: GlobalAveragePooling1D, dropout y capa densa\n",
        "  layers.Activation('sigmoid') #capa de activación, asegura que salida de modelo sea probabildad entre 0 y 1\n",
        "])\n",
        "\n",
        "export_model.compile( #compiaci+on del modelo\n",
        "    loss=losses.BinaryCrossentropy(from_logits=False), optimizer=\"adam\", metrics=['accuracy']\n",
        ")\n",
        "\n",
        "# evaluación del modelo en datos de prueba burto\n",
        "metrics = export_model.evaluate(raw_test_ds, return_dict=True)\n",
        "print(metrics)"
      ],
      "metadata": {
        "colab": {
          "base_uri": "https://localhost:8080/"
        },
        "id": "6mIPacaN7xlF",
        "outputId": "133f2a15-2690-408e-a661-85637d2fbca0"
      },
      "execution_count": 49,
      "outputs": [
        {
          "output_type": "stream",
          "name": "stdout",
          "text": [
            "\u001b[1m782/782\u001b[0m \u001b[32m━━━━━━━━━━━━━━━━━━━━\u001b[0m\u001b[37m\u001b[0m \u001b[1m4s\u001b[0m 4ms/step - accuracy: 0.4945 - binary_accuracy: 0.0000e+00 - loss: 0.0000e+00\n",
            "{'accuracy': 0.5000399947166443, 'binary_accuracy': 0.0, 'loss': 0.0}\n"
          ]
        }
      ]
    },
    {
      "cell_type": "markdown",
      "source": [
        "# Predicción"
      ],
      "metadata": {
        "id": "SUb4rWgv9WOt"
      }
    },
    {
      "cell_type": "code",
      "source": [
        "#usar modelo \"export_model\" para predecir el sentimiento de nuevas frases/reviews\n",
        "\n",
        "examples = tf.constant([ #crear un tensor constante con tres reseñas de películas en formato texto\n",
        "  \"The movie was great!\", #expresa sentimiento positivo\n",
        "  \"The movie was okay.\", #expesa sentimiento neutral\n",
        "  \"The movie was terrible...\" #expresa sentimiento nefativo\n",
        "])\n",
        "\n",
        "export_model.predict(examples) #la función \"export_model\" toma los ejemplos \"examples\" para realizar prediccion\n",
        "  # 1) vecotirza (texto-->num), 2) predicción utlizando capas embedding, pooling y capa final con activacion sigmoid\n",
        "  # 3) la salida es un valor entre 0 y 1 para cada reseña; valor cercano a 1=Positivo, valor cercano a 0 = negativo"
      ],
      "metadata": {
        "colab": {
          "base_uri": "https://localhost:8080/"
        },
        "id": "s2TXmoMF4nnC",
        "outputId": "d61add33-a4c8-4b13-9a20-b75331c4e323"
      },
      "execution_count": 51,
      "outputs": [
        {
          "output_type": "stream",
          "name": "stdout",
          "text": [
            "\u001b[1m1/1\u001b[0m \u001b[32m━━━━━━━━━━━━━━━━━━━━\u001b[0m\u001b[37m\u001b[0m \u001b[1m0s\u001b[0m 20ms/step\n"
          ]
        },
        {
          "output_type": "execute_result",
          "data": {
            "text/plain": [
              "array([[0.58931154],\n",
              "       [0.5523639 ],\n",
              "       [0.53835344]], dtype=float32)"
            ]
          },
          "metadata": {},
          "execution_count": 51
        }
      ]
    },
    {
      "cell_type": "code",
      "source": [],
      "metadata": {
        "id": "b762Xh9K9ZFu"
      },
      "execution_count": null,
      "outputs": []
    }
  ]
}